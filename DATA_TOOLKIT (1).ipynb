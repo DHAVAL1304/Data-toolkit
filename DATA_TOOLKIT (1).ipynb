{
  "nbformat": 4,
  "nbformat_minor": 0,
  "metadata": {
    "colab": {
      "provenance": []
    },
    "kernelspec": {
      "name": "python3",
      "display_name": "Python 3"
    },
    "language_info": {
      "name": "python"
    }
  },
  "cells": [
    {
      "cell_type": "markdown",
      "source": [
        "                        DATA TOOLKIT\n",
        "\n",
        " Q 1 What is NumPy, and why is it widely used in Python?\n",
        "\n",
        " ANSWER\n",
        "   NumPy, short for Numerical Python, is a fundamental library for numerical and scientific computing in Python. It provides support for large, multi-dimensional arrays and matrices, along with a collection of high-level mathematical functions to operate on these arrays efficiently.\n",
        "NumPy is widely used in Python due to several key advantages:\n",
        " Efficiency:\n",
        "NumPy arrays are implemented in C, making them significantly faster and more memory-efficient than standard Python lists for numerical operations.\n",
        " Functionality:\n",
        "NumPy offers a rich set of built-in functions for array manipulation, linear algebra, Fourier transforms, random number generation, and more.\n",
        " Integration:\n",
        "NumPy seamlessly integrates with other popular Python libraries such as Pandas, SciPy, and Matplotlib, forming the foundation for a powerful data science and scientific computing ecosystem.\n",
        " Simplicity:\n",
        "NumPy's intuitive syntax and array-based operations make it easy to express complex mathematical computations in a concise and readable manner.                     \n",
        "\n",
        "Q 2 How does broadcasting work in NumPy?\n",
        "\n",
        "ANSWER\n",
        " Broadcasting in NumPy enables arithmetic operations between arrays with different shapes. NumPy automatically expands the dimensions of the smaller array to match the larger array, without creating copies of the data. This allows for efficient element-wise operations.\n",
        "Broadcasting Rules\n",
        "Dimension Compatibility:\n",
        "For broadcasting to work, the dimensions of the arrays must be compatible. Two dimensions are compatible if they are equal, or if one of them is 1.\n",
        "Dimension Matching:\n",
        "NumPy compares the shape of arrays element-wise, starting from the trailing dimensions and working its way forward.\n",
        "Expansion:\n",
        "If the number of dimensions of two arrays are not equal, then prepend dimensions of size 1 to the smaller array until the number of dimensions match.\n",
        "Stretching:\n",
        "For each dimension, if the sizes in the dimensions do not match, but one of the dimensions is 1, then stretch the array with dimension size 1 to match the other dimension.\n",
        "Error:\n",
        "If in any dimension the sizes disagree and neither is equal to 1, an error is raised.\n",
        "Examples\n"
      ],
      "metadata": {
        "id": "V33FCk5gzM8E"
      }
    },
    {
      "cell_type": "code",
      "source": [
        "import numpy as np\n",
        "\n",
        "# Example 1: Scalar and array\n",
        "a = np.array([1, 2, 3])\n",
        "b = 2\n",
        "print(a + b)\n",
        "\n",
        "# Example 2: 1D array and 2D array\n",
        "a = np.array([[1, 2, 3], [4, 5, 6]])\n",
        "b = np.array([10, 20, 30])\n",
        "print(a + b)\n",
        "\n",
        "\n",
        "# Example 3: Incompatible shapes\n",
        "a = np.array([[1, 2, 3], [4, 5, 6]])\n",
        "b = np.array([1, 2])\n"
      ],
      "metadata": {
        "colab": {
          "base_uri": "https://localhost:8080/"
        },
        "id": "MWqHhoBu0MNN",
        "outputId": "3fdf5213-74b8-41ca-f16d-b00b1d5ea957"
      },
      "execution_count": 1,
      "outputs": [
        {
          "output_type": "stream",
          "name": "stdout",
          "text": [
            "[3 4 5]\n",
            "[[11 22 33]\n",
            " [14 25 36]]\n"
          ]
        }
      ]
    },
    {
      "cell_type": "markdown",
      "source": [
        " Q 3 What is a Pandas DataFrame?\n",
        "\n",
        " ANSWER\n",
        " A Pandas DataFrame is a two-dimensional, labeled data structure in the Pandas library, commonly used for data manipulation and analysis in Python. It resembles a table, with rows and columns, similar to a spreadsheet or SQL table. DataFrames can hold data of various types (integers, floats, strings, etc.) in different columns. They are built upon the NumPy array structure and offer powerful tools for data cleaning, transformation, and analysis.\n",
        " Key characteristics of a Pandas DataFrame:\n",
        " Two-dimensional: Data is organized in rows and columns.\n",
        "Labeled axes: Both rows and columns have labels (indexes and column names).\n",
        "Heterogeneous data: Columns can contain different data types.\n",
        " Size-mutable: Rows and columns can be added or removed.\n",
        "Versatile: Can be created from various data sources like dictionaries, lists,\n",
        " NumPy arrays, and CSV files.\n",
        "Powerful functionalities: Offers methods for filtering, sorting, grouping, merging, and handling missing data.\n",
        "\n"
      ],
      "metadata": {
        "id": "wgUmjneW0bnE"
      }
    },
    {
      "cell_type": "code",
      "source": [
        "import pandas as pd\n",
        "# Creating a DataFrame from a dictionary\n",
        "data = {'Name': ['Alice', 'Bob', 'Charlie'],\n",
        "        'Age': [25, 30, 28],\n",
        "        'City': ['New York', 'London', 'Paris']}\n",
        "df = pd.DataFrame(data)\n",
        "print(df)"
      ],
      "metadata": {
        "colab": {
          "base_uri": "https://localhost:8080/"
        },
        "id": "AB4QsxDV0tpX",
        "outputId": "759bece3-4aee-49e0-9b9a-1484ef96a512"
      },
      "execution_count": 2,
      "outputs": [
        {
          "output_type": "stream",
          "name": "stdout",
          "text": [
            "      Name  Age      City\n",
            "0    Alice   25  New York\n",
            "1      Bob   30    London\n",
            "2  Charlie   28     Paris\n"
          ]
        }
      ]
    },
    {
      "cell_type": "markdown",
      "source": [
        "Q 4  Explain the use of the groupby() method in Pandas\n",
        "\n",
        "ANSWER\n",
        "\n",
        "The groupby() method in Pandas is used to group rows in a DataFrame based on the values of one or more columns. It facilitates the split-apply-combine strategy for data analysis. This involves splitting the data into groups based on specified criteria, applying a function to each group independently, and then combining the results into a new DataFrame or Series."
      ],
      "metadata": {
        "id": "WS9xKDP00yPV"
      }
    },
    {
      "cell_type": "code",
      "source": [
        "import pandas as pd\n",
        "\n",
        "data = {'Category': ['A', 'B', 'A', 'B', 'A', 'B'],\n",
        "        'Value': [10, 20, 15, 25, 12, 18]}\n",
        "df = pd.DataFrame(data)\n",
        "\n",
        "grouped_data = df.groupby('Category')\n",
        "\n",
        "sum_values = grouped_data['Value'].sum()\n",
        "print(sum_values)\n",
        "\n",
        "\n",
        "mean_values = grouped_data['Value'].mean()\n",
        "print(mean_values)\n"
      ],
      "metadata": {
        "colab": {
          "base_uri": "https://localhost:8080/"
        },
        "id": "o-xHhPzi0-SY",
        "outputId": "376e2e1d-9da0-4aae-a12c-9757ce001c1b"
      },
      "execution_count": 3,
      "outputs": [
        {
          "output_type": "stream",
          "name": "stdout",
          "text": [
            "Category\n",
            "A    37\n",
            "B    63\n",
            "Name: Value, dtype: int64\n",
            "Category\n",
            "A    12.333333\n",
            "B    21.000000\n",
            "Name: Value, dtype: float64\n"
          ]
        }
      ]
    },
    {
      "cell_type": "markdown",
      "source": [
        "In the example, the DataFrame df is grouped by the 'Category' column. Then, the sum and mean of the 'Value' column are calculated for each group. The result is a Series with the group names as the index and the calculated sums or means as the values.\n",
        "\n",
        "Q  5  Why is Seaborn preferred for statistical visualizations?\n",
        "\n",
        "ANSWER\n",
        " Seaborn is often preferred for statistical visualizations in Python due to its high-level interface, attractive defaults, and seamless integration with Pandas DataFrames. It simplifies the creation of complex statistical plots, making it easier to explore and understand data. While Matplotlib offers more low-level control, Seaborn focuses on statistical data visualization, providing specialized plot types and aesthetically pleasing visuals with minimal code. This makes Seaborn a strong choice for exploratory data analysis and presenting data insights effectively.\n",
        "\n",
        " Q 6   What are the differences between NumPy arrays and Python lists?\n",
        "\n",
        " ANSWER\n",
        "\n",
        " NumPy arrays and Python lists are both used to store collections of data, but they have key differences that make them suitable for different purposes:\n",
        "Data Type Homogeneity:\n",
        "NumPy arrays store elements of the same data type, while Python lists can contain elements of different data types. This homogeneity allows NumPy to perform operations more efficiently.\n",
        "Memory Efficiency:\n",
        "NumPy arrays are more memory-efficient than Python lists, especially for large datasets. This is because NumPy arrays store data in a contiguous block of memory, while Python lists store data as pointers to objects scattered in memory.\n",
        "Computational Efficiency:\n",
        "NumPy arrays are optimized for numerical computations, offering vectorized operations and mathematical functions that are significantly faster than equivalent operations on Python lists.\n",
        "Size Mutability:\n",
        "NumPy arrays have a fixed size upon creation, whereas Python lists can dynamically grow or shrink. Resizing a NumPy array creates a new array, which can be less efficient than modifying a list in place.\n",
        "Functionality:\n",
        "NumPy provides a rich set of functions for array manipulation, mathematical operations, and data analysis, while Python lists offer more general-purpose functionalities like appending, inserting, and removing elements.\n",
        "\n",
        "Q 7  What is a heatmap, and when should it be used?\n",
        "\n",
        "ANSWER\n",
        "\n",
        "A heatmap is a data visualization technique that uses color-coding to represent the magnitude of a variable across two dimensions. It's often used to visualize user behavior on websites, showing where users click, scroll, or hover, or to represent patterns in data like population density or temperatures.\n",
        "Here's a more detailed explanation:\n",
        "What it is:\n",
        "Heatmaps use a color gradient to show how a variable changes across different areas or categories. For example, a website heatmap might use warmer colors to indicate areas where users click more frequently, while cooler colors represent areas with less interaction.\n",
        "When to use it:\n",
        "Heatmaps are valuable for:\n",
        "Analyzing user behavior on websites: Identifying areas of high and low engagement, optimizing layouts, and improving user experience according to Optimizely.\n",
        "Representing geographical data: Visualizing population density, temperature variations, or other spatial patterns.\n",
        "Analyzing correlations between variables: Identifying relationships between different factors, such as stock prices or product performance.\n",
        "Improving business processes: Analyzing foot traffic in retail stores, optimizing production flow, or identifying areas for improvement.\n",
        "Simplifying complex data: Transforming intricate datasets into easily understandable visuals.\n",
        "\n",
        "Q 8 What does the term “vectorized operation” mean in NumPy?\n",
        "\n",
        "ANSWER\n",
        "\n",
        "In NumPy, a \"vectorized operation\" refers to performing an operation on entire arrays (or array sections) at once, rather than processing individual elements sequentially using loops. This approach leverages NumPy's underlying C implementation, resulting in significantly faster and more efficient computations, especially for large datasets. Vectorized operations are a cornerstone of NumPy's performance and are widely used in data analysis, scientific computing, and machine learning.\n",
        "Vectorized operations in NumPy offer several advantages:\n",
        "Efficiency:\n",
        "They are implemented in highly optimized C code, allowing for faster execution compared to Python loops.\n",
        "Conciseness:\n",
        "They eliminate the need for explicit loops, making code more readable and easier to write.\n",
        "Broadcasting:\n",
        "They enable operations between arrays of different shapes under certain conditions, further enhancing flexibility.\n",
        "Examples of vectorized operations in NumPy include:\n",
        "Element-wise arithmetic operations (addition, subtraction, multiplication, division)\n",
        "Comparison operations (>, <, ==, !=)\n",
        "Logical operations (AND, OR, NOT)\n",
        "Mathematical functions (sin, cos, exp, log)\n",
        "Array-wide aggregations (sum, mean, max, min)\n",
        "Linear algebra operations (dot product, matrix multiplication)\n",
        "\n",
        "Q 9  How does Matplotlib differ from Plotly?\n",
        "\n",
        "ANSWER\n",
        "\n",
        "Matplotlib and Plotly are both Python libraries used for data visualization, but they differ significantly in their approach and capabilities:\n",
        " Matplotlib\n",
        "Primarily focuses on creating static plots.\n",
        "Offers extensive customization options, allowing fine-grained control over every element of a plot.\n",
        "Requires more code to generate complex visualizations.\n",
        "Can create interactive plots, but requires additional libraries or specific features in Jupyter notebooks.\n",
        "Well-suited for generating publication-quality figures and reports.\n",
        "  Plotly\n",
        "Designed for creating interactive plots that can be easily embedded in web applications and dashboards.\n",
        "Offers a variety of built-in interactive features, such as tooltips, zooming, and panning.\n",
        "Simplifies the creation of complex visualizations with less code.\n",
        "Provides a more modern and visually appealing aesthetic by default.\n",
        "Ideal for exploratory data analysis and creating dynamic presentations.\n",
        "\n",
        "Q 10 What is the significance of hierarchical indexing in Pandas?\n",
        "\n",
        "ANSWER\n",
        "\n",
        "Hierarchical indexing, also known as MultiIndexing, is a feature in Pandas that allows for multiple levels of indexing within a DataFrame or Series. Its significance lies in enabling efficient manipulation and analysis of high-dimensional data within lower-dimensional structures.\n",
        "Hierarchical indexing provides several advantages:\n",
        "Organization of complex data:\n",
        "It facilitates the representation of data with multiple levels of categorization, such as time series data with dates and locations, or survey data with demographic and question categories.\n",
        "Efficient data selection and slicing:\n",
        "It allows for selecting subsets of data based on multiple index levels, enabling focused analysis on specific data segments. Methods like .loc[] and .xs() facilitate this selection.\n",
        "Data aggregation and grouping:\n",
        "It simplifies grouping and aggregating data across multiple dimensions, making it easier to calculate summary statistics for different categories.\n",
        "Reshaping and pivoting:\n",
        "It enables the transformation of data between different layouts, such as converting long format data to wide format or vice versa.\n",
        "Improved performance:\n",
        "It can enhance the performance of data operations by providing a structured way to access and manipulate data, especially for large datasets.\n",
        "\n",
        "Q 11 What is the role of Seaborn’s pairplot() function?\n",
        "\n",
        " ANSWER\n",
        "The pairplot() function in the Seaborn library is used to visualize pairwise relationships between multiple variables in a dataset. It generates a matrix of scatter plots, where each plot shows the relationship between two different variables. The diagonal plots usually display the distribution of a single variable (e.g., a histogram or density plot). This function is a powerful tool for exploratory data analysis (EDA) as it provides a quick overview of the relationships and distributions within a dataset. It helps in identifying potential correlations, clusters, and outliers.\n",
        "\n",
        "Q 12  What is the purpose of the describe() function in Pandas?\n",
        "\n",
        "ANSWER\n",
        "\n",
        "The describe() function in Pandas serves to generate descriptive statistics of a DataFrame or Series. It provides a concise summary of the distribution of the data, including measures of central tendency, dispersion, and range. By default, it analyzes numerical columns, but can be adapted to handle categorical data as well.\n",
        "   For numerical data, the output includes:\n",
        "count: The number of non-null values.\n",
        "mean: The average value.\n",
        "std: The standard deviation, measuring the spread of the data.\n",
        "min: The minimum value.\n",
        "25%: The first quartile (25th percentile).\n",
        "50%: The median (second quartile or 50th percentile).\n",
        "75%: The third quartile (75th percentile).\n",
        "max: The maximum value.\n",
        "  For categorical data, the output includes:\n",
        "count: The number of non-null values.\n",
        "unique: The number of distinct categories.\n",
        "top: The most frequent category.\n",
        "freq: The frequency of the most frequent category.\n",
        "The describe() function is useful for quickly understanding the main characteristics of a dataset and identifying potential issues such as outliers or skewness.\n",
        "\n",
        "Q 13  Why is handling missing data important in Pandas?\n",
        "\n",
        "ANSWER\n",
        "\n",
        "Handling missing data in Pandas is important because it ensures the accuracy and reliability of data analysis. Missing values, often represented as NaN, can arise from various sources, such as data entry errors or incomplete records. If left unaddressed, they can lead to skewed results, incorrect conclusions, and negatively impact the performance of machine learning models. Pandas provides tools like dropna() to remove missing values and fillna() to replace them, allowing for effective data cleaning and preparation. Properly handling missing data maintains data integrity and enables more robust and meaningful analysis.\n",
        "\n",
        "Q 14 What are the benefits of using Plotly for data visualization?\n",
        "\n",
        "ANSWER\n",
        "\n",
        "Plotly is a powerful data visualization library in Python that offers several benefits:\n",
        "Interactivity:\n",
        "Plotly allows users to create interactive plots with features like zooming, panning, and hover tooltips. This interactivity enables a more in-depth exploration of the data.\n",
        "Versatility:\n",
        "Plotly supports a wide range of chart types, including basic charts like bar charts and line graphs, as well as more complex visualizations like 3D plots and heatmaps.\n",
        "Customization:\n",
        "Plotly offers extensive customization options, allowing users to fine-tune the appearance of their plots, including colors, fonts, and layouts.\n",
        "Ease of use:\n",
        "Plotly has a relatively simple and intuitive syntax, making it easy to learn and use, even for those new to data visualization.\n",
        "Web-based visualizations:\n",
        "Plotly creates web-based visualizations that can be easily embedded in web applications or saved as HTML files.\n",
        "Integration with Dash:\n",
        "Plotly integrates seamlessly with Dash, a Python framework for building web applications, enabling the creation of interactive dashboards.\n",
        "Export options:\n",
        "Plotly supports exporting visualizations in various formats, including static images and HTML files.\n",
        "Open source:\n",
        "Plotly is a free and open-source library, making it accessible to a wide range of users.\n",
        "Dynamic Visual Aids:\n",
        "Plotly commonly creates dynamic visual aids with little code, making it easier to use, especially for inexperienced users.\n",
        "\n",
        "Q 15 How does NumPy handle multidimensional arrays?\n",
        "\n",
        "ANSWER\n",
        "\n",
        "NumPy's core data structure, the ndarray, efficiently handles multidimensional arrays. These arrays can represent data in various dimensions, from simple vectors (1D) to complex tensors (n-D). Here's how NumPy manages them:\n",
        "Homogeneous Data:\n",
        "All elements within a NumPy array must be of the same data type. This constraint allows for optimized storage and computation.\n",
        "Memory Layout:\n",
        "NumPy stores multidimensional arrays in a contiguous block of memory, as a flattened 1D array. It uses metadata, including shape and strides, to map multidimensional indices to the correct memory locations.\n",
        "Shape and Strides:\n",
        "Shape: A tuple that defines the size of each dimension (e.g., (3, 4) for a 2D array with 3 rows and 4 columns).\n",
        "Strides: A tuple indicating the number of bytes to step in each dimension when traversing the array.\n",
        "Indexing and Slicing:\n",
        "NumPy provides powerful indexing and slicing capabilities to access and manipulate subarrays efficiently. These operations often create views, sharing the underlying data buffer without copying.\n",
        "Broadcasting:\n",
        "NumPy's broadcasting rules allow operations between arrays with different shapes, as long as their dimensions are compatible. This avoids explicit looping and enhances performance.\n",
        "Vectorized Operations:\n",
        "NumPy leverages optimized C and Fortran code to perform mathematical operations on entire arrays at once, significantly faster than iterating through individual elements.\n",
        "Reshaping:\n",
        "The shape of an array can be modified without changing its data, enabling flexible data manipulation.\n",
        "\n",
        "Q 16 What is the role of Bokeh in data visualization?\n",
        "\n",
        "ANSWER\n",
        "\n",
        "Bokeh's primary role in data visualization is to create interactive and visually appealing visualizations for web browsers, allowing users to explore and understand data effectively. Unlike traditional plotting libraries like Matplotlib that output static images, Bokeh generates interactive HTML and JavaScript-based visualizations that can be easily embedded in web applications or dashboards. This enables users to zoom, pan, and interact with plots to gain deeper insights.\n",
        "Here's a more detailed breakdown:\n",
        "Interactivity:\n",
        "Bokeh's visualizations are interactive, meaning users can zoom, pan, and even interact with individual data points on the plot. This allows for dynamic exploration and discovery of patterns in the data.\n",
        "Web-based Visualization:\n",
        "Bokeh's plots are designed to be displayed in modern web browsers, making them suitable for web applications, dashboards, and online data exploration tools.\n",
        "High-Performance Interactivity:\n",
        "Bokeh is designed to handle large and even streaming datasets efficiently, ensuring responsive interactivity even with complex visualizations.\n",
        "Flexibility:\n",
        "Bokeh provides a range of plotting options, from simple charts to complex dashboards, and allows for customization to meet specific visualization needs.\n",
        "Integration with other Python Libraries:\n",
        "Bokeh integrates well with popular Python data science libraries like Pandas and Jupyter Notebook, making it a convenient tool for data analysis and visualization workflows.\n",
        "Customization:\n",
        "Bokeh allows for a high degree of customization, including styling, layout, and interactive elements, enabling users to create visualizations that are tailored to their specific needs.\n",
        "Web Application Integration:\n",
        "Bokeh's web-based nature makes it easy to integrate visualizations into web applications and dashboards, providing interactive data exploration capabilities directly within the web environment.\n",
        "In essence, Bokeh provides a powerful and flexible way to create interactive and visually appealing visualizations for web-based data exploration and analysis, allowing users to interact with their data in a dynamic and engaging way.\n",
        "\n",
        "Q 17 Explain the difference between apply() and map() in Pandas\n",
        "\n",
        "ANSWER\n",
        "\n",
        "apply() and map() are both used in Pandas for applying functions to Series or DataFrames, but they operate differently.\n",
        "map():\n",
        "This function is specifically for Series and operates element-wise. It substitutes each value in a Series with another value, which can be determined by a function, dictionary, or another Series. It's ideal for simple one-to-one value transformations.\n",
        "apply():\n",
        "This function is more versatile and can be used on both Series and DataFrames. When used on a Series, it behaves similarly to map(), applying a function to each element. However, when used on a DataFrame, it can apply a function along an axis (either rows or columns). This makes it suitable for more complex operations, including aggregations and calculations involving multiple columns or rows.\n",
        "\n",
        "In essence, map() is a specialized tool for simple Series transformations, while apply() is a more general-purpose tool for a wider range of operations on both Series and DataFrames.\n",
        "\n",
        "Q 18 What are some advanced features of NumPy?\n",
        "\n",
        "ANSWER\n",
        "\n",
        "NumPy offers several advanced features beyond basic array manipulation, including universal functions (ufuncs), broadcasting, masking, fancy indexing, array sorting, and stacking/splitting. These features enable efficient and versatile operations on NumPy arrays.\n",
        "1. Universal Functions (ufuncs):\n",
        "Ufuncs are functions that operate on arrays element-wise, providing a way to execute mathematical, logical, and other operations efficiently.\n",
        "They support a wide range of arithmetic operations (addition, subtraction, multiplication, division, etc.) and other mathematical functions.\n",
        "Example: np.add(a, b) adds two arrays element-wise.\n",
        "2. Broadcasting:\n",
        "Broadcasting allows NumPy to perform operations on arrays of different shapes, automatically aligning dimensions without creating new arrays.\n",
        "It provides a way to vectorize array operations, avoiding explicit loops and improving performance.\n",
        "Example: Adding a scalar to an array, where the scalar is \"broadcast\" to each element of the array.\n",
        "3. Masking:\n",
        "Masking involves creating a boolean array (mask) to select specific elements of an array for operations or analysis.\n",
        "Elements corresponding to True values in the mask are selected, while those corresponding to False are ignored.\n",
        "Example: Selecting all elements greater than a certain threshold.\n",
        "4. Fancy Indexing:\n",
        "Fancy indexing allows you to access array elements using a list or array of indices.\n",
        "This provides flexible ways to select and manipulate specific elements or subsets of the array.\n",
        "Example: Accessing elements at specific indices from a list of indices.\n",
        "5. Array Sorting:\n",
        "NumPy offers various sorting functions, including np.sort(), which returns a sorted copy of the array, and np.argsort(), which returns the indices that would sort the array.\n",
        "These functions can be used to sort arrays in ascending or descending order, or by specific attributes or columns.\n",
        "Example: Sorting an array in ascending order.\n",
        "6. Stacking and Splitting:\n",
        "Stacking:\n",
        "Combines multiple arrays along different axes to create a larger array.\n",
        "np.vstack() stacks arrays vertically (along the first axis).\n",
        "np.hstack() stacks arrays horizontally (along the second axis).\n",
        "Splitting:\n",
        "Divides an array into multiple sub-arrays along a specified axis.\n",
        "np.hsplit() splits an array along the horizontal axis.\n",
        "np.vsplit() splits an array along the vertical axis.\n",
        "7. Other Advanced Features:\n",
        "Datetime64:\n",
        "NumPy's datetime64 data type allows working with dates and times directly within arrays.\n",
        "Linear Algebra:\n",
        "NumPy's linalg module provides functions for linear algebra operations like matrix multiplication, determinant, and inverse.\n",
        "Random Numbers:\n",
        "NumPy offers functions for generating random numbers, including random integers, floats, and from various distributions\n",
        "\n",
        "Q 19 How does Pandas simplify time series analysis?\n",
        "\n",
        "ANSWER\n",
        "\n",
        "Pandas simplifies time series analysis through its specialized data structures and functionalities tailored for handling time-indexed data. Here's how:\n",
        "Time-based Indexing:\n",
        "Pandas allows using dates and times as the index of a DataFrame or Series. This enables intuitive data selection and manipulation using time-based strings or datetime objects.\n",
        "Datetime Functionality:\n",
        "Pandas provides the to_datetime function to convert strings or other data types into datetime objects. This unlocks various time-related properties and methods for easy extraction of date components (year, month, day, etc.).\n",
        "Resampling:\n",
        "The resample function facilitates changing the frequency of time series data. It allows aggregating or downsampling data into different time intervals (e.g., daily to monthly), which is useful for analyzing trends across various timeframes.\n",
        "Time Zone Handling:\n",
        "Pandas supports time zone management, enabling the conversion and localization of time series data to different time zones.\n",
        "Data Alignment:\n",
        "When performing operations between time series with different frequencies or time ranges, Pandas automatically aligns the data based on the time index, preventing errors and ensuring accurate calculations.\n",
        "Rolling and Expanding Windows:\n",
        "Pandas offers functionalities for calculating rolling statistics (e.g., moving averages) and expanding statistics (e.g., cumulative sums) over time windows, which are useful for identifying trends and patterns.\n",
        "Data Aggregation:\n",
        "The groupby method can be combined with time-based grouping to perform advanced aggregations over specific time periods.\n",
        "Visualization:\n",
        "Pandas integrates well with visualization libraries like Matplotlib, enabling easy creation of time series plots for exploring data patterns.\n",
        "\n",
        "\n",
        "Q 20 What is the role of a pivot table in Pandas?\n",
        "\n",
        "ANSWER\n",
        "\n",
        "The role of a pivot table in Pandas is to reshape and summarize data within a DataFrame, allowing for easy analysis and reporting. It transforms data from a \"long\" format to a \"wide\" format, enabling the comparison of different variables more effectively. Pivot tables are particularly useful for grouping and aggregating data, creating spreadsheet-style summaries, and extracting insights from large datasets. They can be used to analyze numerical data in detail and answer questions about the data.\n",
        "Specifically, the pivot_table() function in Pandas takes a DataFrame and parameters specifying how to reshape the data. It uses unique values from specified columns to form the axes of the resulting table and allows for the aggregation of values using functions like sum, mean, or count. This makes it easier to identify trends, patterns, and relationships within the data.\n",
        "\n",
        "Q 21\n",
        "\n",
        "Why is NumPy’s array slicing faster than Python’s list slicing)\n",
        "\n",
        "ANSWER\n",
        "\n",
        "NumPy's array slicing is faster than Python's list slicing due to several key differences in how these data structures are implemented and how they handle memory:\n",
        "Contiguous Memory Allocation:\n",
        "NumPy arrays store elements of the same data type in contiguous blocks of memory. This allows for efficient access and manipulation of data, as the elements are located next to each other. Python lists, on the other hand, store elements as references to objects scattered in memory. When slicing, NumPy can directly calculate the memory offset to the desired section, whereas Python needs to follow pointers for each element.\n",
        "Homogeneous Data Types:\n",
        "NumPy arrays are designed to hold elements of the same data type. This homogeneity allows for optimized operations and memory access. Python lists can contain heterogeneous data types, requiring additional overhead for type checking and handling during slicing.\n",
        "Optimized C Implementation:\n",
        "NumPy is implemented in C, which provides low-level control over memory and efficient execution. Slicing operations in NumPy are performed by optimized C code, making them significantly faster than the equivalent Python operations.\n",
        "Avoidance of Loops:\n",
        "NumPy's slicing operations are vectorized, meaning they operate on entire arrays at once without explicit loops. This eliminates the overhead of Python's loop interpretation and execution, leading to substantial performance gains.\n",
        "In essence, NumPy's design prioritizes numerical computation and efficient memory management, resulting in faster slicing operations compared to Python lists.\n",
        "\n",
        "Q 22\n",
        "\n",
        "What are some common use cases for Seaborn?\n",
        "\n",
        "ANSWER\n",
        "\n",
        "Seaborn is a Python data visualization library built on top of Matplotlib, commonly used for creating informative and visually appealing statistical graphics. Some common use cases for Seaborn include:\n",
        "Exploratory Data Analysis (EDA):\n",
        "Visualizing distributions of single variables using histograms, KDE plots, and rug plots.\n",
        "Examining relationships between two variables using scatter plots, line plots, and regression plots.\n",
        "Comparing distributions across different categories using box plots, violin plots, and bar plots.\n",
        "Identifying patterns and correlations in data using heatmaps and pair plots.\n",
        "Statistical Analysis:\n",
        "Visualizing statistical relationships with regression plots to identify trends and correlations.\n",
        "Displaying the distribution of data and comparing it across different groups using box plots and violin plots.\n",
        "Creating heatmaps to show correlations between variables.\n",
        "Machine Learning:\n",
        "Visualizing model performance using confusion matrices and ROC curves.\n",
        "Exploring feature importance with bar plots and heatmaps.\n",
        "Visualizing data preprocessing steps.\n",
        "Presenting Data:\n",
        "Creating publication-quality graphics with visually appealing default styles and color palettes.\n",
        "Customizing plots to effectively communicate insights.\n",
        "Here are some examples of specific plot types and their use cases:\n",
        "Scatter plots:\n",
        "Used to visualize the relationship between two continuous variables, identify outliers, and observe clustering or groupings.\n",
        "Histograms:\n",
        "Used to visualize the distribution of a single variable and gain insights into its shape, peaks, and skewness.\n",
        "Box plots and Violin plots:\n",
        "Used to compare the distribution of one or more variables across different categories.\n",
        "Heatmaps:\n",
        "Used to visualize correlations between variables and identify patterns in matrix-like data.\n",
        "Pair plots:\n",
        "Used to visualize relationships between multiple pairs of variables in a dataset.\n",
        "Regression plots:\n",
        "Used to visualize the linear relationship between two variables, along with confidence intervals.\n",
        "Seaborn simplifies the creation of complex visualizations and provides a high-level interface for exploring and understanding data. Its integration with Pandas DataFrames and Matplotlib makes it a powerful tool for data analysis and presentation.\n",
        "\n",
        "\n",
        "                      PRACTICAL\n",
        "\n",
        "Q 1  How do you create a 2D NumPy array and calculate the sum of each row?\n",
        "\n",
        "ANSWER\n",
        "\n",
        "\n",
        "\n"
      ],
      "metadata": {
        "id": "MOvy7S6N1FoZ"
      }
    },
    {
      "cell_type": "code",
      "source": [
        "import numpy as np\n",
        "\n",
        "# Create a 2D NumPy array\n",
        "my_array = np.array([[1, 2, 3], [4, 5, 6], [7, 8, 9]])\n",
        "\n",
        "# Calculate the sum of each row\n",
        "row_sums = np.sum(my_array, axis=1)\n",
        "\n",
        "# Print the result\n",
        "print(row_sums)"
      ],
      "metadata": {
        "colab": {
          "base_uri": "https://localhost:8080/"
        },
        "id": "Igkvxw5l5zQv",
        "outputId": "33f626ce-7cd9-4c2c-bb85-87372a20894b"
      },
      "execution_count": 4,
      "outputs": [
        {
          "output_type": "stream",
          "name": "stdout",
          "text": [
            "[ 6 15 24]\n"
          ]
        }
      ]
    },
    {
      "cell_type": "markdown",
      "source": [
        " Q 2  Write a Pandas script to find the mean of a specific column in a DataFrame\n",
        "\n",
        " ANSWER\n",
        "\n",
        ""
      ],
      "metadata": {
        "id": "2e9FOIDf583d"
      }
    },
    {
      "cell_type": "code",
      "source": [
        "import pandas as pd\n",
        "\n",
        "# Sample DataFrame\n",
        "data = {'col_1': [1, 2, 3, 4, 5],\n",
        "        'col_2': [6, 7, 8, 9, 10],\n",
        "        'col_3': [11, 12, 13, 14, 15]}\n",
        "df = pd.DataFrame(data)\n",
        "\n",
        "# Calculate the mean of 'col_2'\n",
        "mean_col2 = df['col_2'].mean()\n",
        "\n",
        "# Print the result\n",
        "print(f\"The mean of 'col_2' is: {mean_col2}\")"
      ],
      "metadata": {
        "colab": {
          "base_uri": "https://localhost:8080/"
        },
        "id": "eFSxfoQC6K6Y",
        "outputId": "a7a1b194-13ea-4f13-cd99-e46f0fdbfc8d"
      },
      "execution_count": 5,
      "outputs": [
        {
          "output_type": "stream",
          "name": "stdout",
          "text": [
            "The mean of 'col_2' is: 8.0\n"
          ]
        }
      ]
    },
    {
      "cell_type": "markdown",
      "source": [
        "Q 3 A Create a scatter plot using Matplotlib.\n"
      ],
      "metadata": {
        "id": "hea7HEQX6NK3"
      }
    },
    {
      "cell_type": "code",
      "source": [
        "import matplotlib.pyplot as plt\n",
        "import numpy as np\n",
        "\n",
        "# Generate sample data\n",
        "x = np.random.rand(50)\n",
        "y = np.random.rand(50)\n",
        "\n",
        "# Create the scatter plot\n",
        "plt.scatter(x, y)\n",
        "\n",
        "# Add labels and title\n",
        "plt.xlabel(\"X-axis Label\")\n",
        "plt.ylabel(\"Y-axis Label\")\n",
        "plt.title(\"Scatter Plot Example\")\n",
        "\n",
        "# Display the plot\n",
        "plt.show()"
      ],
      "metadata": {
        "colab": {
          "base_uri": "https://localhost:8080/",
          "height": 472
        },
        "id": "YZJMcECF6Roy",
        "outputId": "82a521fe-83e2-4f23-d331-e809c5e7d82e"
      },
      "execution_count": 6,
      "outputs": [
        {
          "output_type": "display_data",
          "data": {
            "text/plain": [
              "<Figure size 640x480 with 1 Axes>"
            ],
            "image/png": "[encoded data removed]"
          },
          "metadata": {}
        }
      ]
    },
    {
      "cell_type": "markdown",
      "source": [
        "Q 4  How do you calculate the correlation matrix using Seaborn and visualize it with a heatmap?\n",
        "\n",
        "ANSWER\n"
      ],
      "metadata": {
        "id": "iG88UHMh6YBX"
      }
    },
    {
      "cell_type": "code",
      "source": [
        "import pandas as pd\n",
        "import seaborn as sns\n",
        "import matplotlib.pyplot as plt\n",
        "\n",
        "data = {'A': [1, 2, 3, 4, 5],\n",
        "        'B': [2, 4, 5, 4, 5],\n",
        "        'C': [5, 4, 3, 2, 1]}\n",
        "df = pd.DataFrame(data)\n",
        "\n",
        "correlation_matrix = df.corr()\n",
        "\n",
        "plt.figure(figsize=(8, 6)) # Adjust figure size as needed\n",
        "sns.heatmap(correlation_matrix, annot=True, cmap='coolwarm', fmt=\".2f\", linewidths=.5)\n",
        "plt.title('Correlation Matrix')\n",
        "plt.show()"
      ],
      "metadata": {
        "colab": {
          "base_uri": "https://localhost:8080/",
          "height": 545
        },
        "id": "Rzw62dx163i7",
        "outputId": "e191766f-8378-4601-aa59-16d41bd313d6"
      },
      "execution_count": 8,
      "outputs": [
        {
          "output_type": "display_data",
          "data": {
            "text/plain": [
              "<Figure size 800x600 with 2 Axes>"
            ],
            "image/png": "[encoded data removed]"
          },
          "metadata": {}
        }
      ]
    },
    {
      "cell_type": "markdown",
      "source": [
        " Q 5 Generate a bar plot using Plotly\n",
        "\n",
        " ANSWER\n",
        ""
      ],
      "metadata": {
        "id": "iVU7ANNj698h"
      }
    },
    {
      "cell_type": "code",
      "source": [
        "import plotly.express as px\n",
        "\n",
        "# Sample data\n",
        "data = {\n",
        "    'categories': ['A', 'B', 'C', 'D'],\n",
        "    'values': [25, 10, 30, 15]\n",
        "}\n",
        "\n",
        "# Create the bar plot\n",
        "fig = px.bar(data, x='categories', y='values', title='Simple Bar Plot')\n",
        "\n",
        "# Show the plot\n",
        "fig.show()"
      ],
      "metadata": {
        "colab": {
          "base_uri": "https://localhost:8080/",
          "height": 542
        },
        "id": "lhCGJZ617HMa",
        "outputId": "62f3f794-465d-4782-8fe5-ecf6768febcb"
      },
      "execution_count": 9,
      "outputs": [
        {
          "output_type": "display_data",
          "data": {
            "text/html": [
              "<html>\n",
              "<head><meta charset=\"utf-8\" /></head>\n",
              "<body>\n",
              "    <div>            <script src=\"https://cdnjs.cloudflare.com/ajax/libs/mathjax/2.7.5/MathJax.js?config=TeX-AMS-MML_SVG\"></script><script type=\"text/javascript\">if (window.MathJax && window.MathJax.Hub && window.MathJax.Hub.Config) {window.MathJax.Hub.Config({SVG: {font: \"STIX-Web\"}});}</script>                <script type=\"text/javascript\">window.PlotlyConfig = {MathJaxConfig: 'local'};</script>\n",
              "        <script charset=\"utf-8\" src=\"https://cdn.plot.ly/plotly-2.35.2.min.js\"></script>                <div id=\"7ef47dd0-2492-4931-9d8d-b780dff7dd87\" class=\"plotly-graph-div\" style=\"height:525px; width:100%;\"></div>            <script type=\"text/javascript\">                                    window.PLOTLYENV=window.PLOTLYENV || {};                                    if (document.getElementById(\"7ef47dd0-2492-4931-9d8d-b780dff7dd87\")) {                    Plotly.newPlot(                        \"7ef47dd0-2492-4931-9d8d-b780dff7dd87\",                        [{\"alignmentgroup\":\"True\",\"hovertemplate\":\"categories=%{x}\\u003cbr\\u003evalues=%{y}\\u003cextra\\u003e\\u003c\\u002fextra\\u003e\",\"legendgroup\":\"\",\"marker\":{\"color\":\"#636efa\",\"pattern\":{\"shape\":\"\"}},\"name\":\"\",\"offsetgroup\":\"\",\"orientation\":\"v\",\"showlegend\":false,\"textposition\":\"auto\",\"x\":[\"A\",\"B\",\"C\",\"D\"],\"xaxis\":\"x\",\"y\":[25,10,30,15],\"yaxis\":\"y\",\"type\":\"bar\"}],                        {\"template\":{\"data\":{\"histogram2dcontour\":[{\"type\":\"histogram2dcontour\",\"colorbar\":{\"outlinewidth\":0,\"ticks\":\"\"},\"colorscale\":[[0.0,\"#0d0887\"],[0.1111111111111111,\"#46039f\"],[0.2222222222222222,\"#7201a8\"],[0.3333333333333333,\"#9c179e\"],[0.4444444444444444,\"#bd3786\"],[0.5555555555555556,\"#d8576b\"],[0.6666666666666666,\"#ed7953\"],[0.7777777777777778,\"#fb9f3a\"],[0.8888888888888888,\"#fdca26\"],[1.0,\"#f0f921\"]]}],\"choropleth\":[{\"type\":\"choropleth\",\"colorbar\":{\"outlinewidth\":0,\"ticks\":\"\"}}],\"histogram2d\":[{\"type\":\"histogram2d\",\"colorbar\":{\"outlinewidth\":0,\"ticks\":\"\"},\"colorscale\":[[0.0,\"#0d0887\"],[0.1111111111111111,\"#46039f\"],[0.2222222222222222,\"#7201a8\"],[0.3333333333333333,\"#9c179e\"],[0.4444444444444444,\"#bd3786\"],[0.5555555555555556,\"#d8576b\"],[0.6666666666666666,\"#ed7953\"],[0.7777777777777778,\"#fb9f3a\"],[0.8888888888888888,\"#fdca26\"],[1.0,\"#f0f921\"]]}],\"heatmap\":[{\"type\":\"heatmap\",\"colorbar\":{\"outlinewidth\":0,\"ticks\":\"\"},\"colorscale\":[[0.0,\"#0d0887\"],[0.1111111111111111,\"#46039f\"],[0.2222222222222222,\"#7201a8\"],[0.3333333333333333,\"#9c179e\"],[0.4444444444444444,\"#bd3786\"],[0.5555555555555556,\"#d8576b\"],[0.6666666666666666,\"#ed7953\"],[0.7777777777777778,\"#fb9f3a\"],[0.8888888888888888,\"#fdca26\"],[1.0,\"#f0f921\"]]}],\"heatmapgl\":[{\"type\":\"heatmapgl\",\"colorbar\":{\"outlinewidth\":0,\"ticks\":\"\"},\"colorscale\":[[0.0,\"#0d0887\"],[0.1111111111111111,\"#46039f\"],[0.2222222222222222,\"#7201a8\"],[0.3333333333333333,\"#9c179e\"],[0.4444444444444444,\"#bd3786\"],[0.5555555555555556,\"#d8576b\"],[0.6666666666666666,\"#ed7953\"],[0.7777777777777778,\"#fb9f3a\"],[0.8888888888888888,\"#fdca26\"],[1.0,\"#f0f921\"]]}],\"contourcarpet\":[{\"type\":\"contourcarpet\",\"colorbar\":{\"outlinewidth\":0,\"ticks\":\"\"}}],\"contour\":[{\"type\":\"contour\",\"colorbar\":{\"outlinewidth\":0,\"ticks\":\"\"},\"colorscale\":[[0.0,\"#0d0887\"],[0.1111111111111111,\"#46039f\"],[0.2222222222222222,\"#7201a8\"],[0.3333333333333333,\"#9c179e\"],[0.4444444444444444,\"#bd3786\"],[0.5555555555555556,\"#d8576b\"],[0.6666666666666666,\"#ed7953\"],[0.7777777777777778,\"#fb9f3a\"],[0.8888888888888888,\"#fdca26\"],[1.0,\"#f0f921\"]]}],\"surface\":[{\"type\":\"surface\",\"colorbar\":{\"outlinewidth\":0,\"ticks\":\"\"},\"colorscale\":[[0.0,\"#0d0887\"],[0.1111111111111111,\"#46039f\"],[0.2222222222222222,\"#7201a8\"],[0.3333333333333333,\"#9c179e\"],[0.4444444444444444,\"#bd3786\"],[0.5555555555555556,\"#d8576b\"],[0.6666666666666666,\"#ed7953\"],[0.7777777777777778,\"#fb9f3a\"],[0.8888888888888888,\"#fdca26\"],[1.0,\"#f0f921\"]]}],\"mesh3d\":[{\"type\":\"mesh3d\",\"colorbar\":{\"outlinewidth\":0,\"ticks\":\"\"}}],\"scatter\":[{\"fillpattern\":{\"fillmode\":\"overlay\",\"size\":10,\"solidity\":0.2},\"type\":\"scatter\"}],\"parcoords\":[{\"type\":\"parcoords\",\"line\":{\"colorbar\":{\"outlinewidth\":0,\"ticks\":\"\"}}}],\"scatterpolargl\":[{\"type\":\"scatterpolargl\",\"marker\":{\"colorbar\":{\"outlinewidth\":0,\"ticks\":\"\"}}}],\"bar\":[{\"error_x\":{\"color\":\"#2a3f5f\"},\"error_y\":{\"color\":\"#2a3f5f\"},\"marker\":{\"line\":{\"color\":\"#E5ECF6\",\"width\":0.5},\"pattern\":{\"fillmode\":\"overlay\",\"size\":10,\"solidity\":0.2}},\"type\":\"bar\"}],\"scattergeo\":[{\"type\":\"scattergeo\",\"marker\":{\"colorbar\":{\"outlinewidth\":0,\"ticks\":\"\"}}}],\"scatterpolar\":[{\"type\":\"scatterpolar\",\"marker\":{\"colorbar\":{\"outlinewidth\":0,\"ticks\":\"\"}}}],\"histogram\":[{\"marker\":{\"pattern\":{\"fillmode\":\"overlay\",\"size\":10,\"solidity\":0.2}},\"type\":\"histogram\"}],\"scattergl\":[{\"type\":\"scattergl\",\"marker\":{\"colorbar\":{\"outlinewidth\":0,\"ticks\":\"\"}}}],\"scatter3d\":[{\"type\":\"scatter3d\",\"line\":{\"colorbar\":{\"outlinewidth\":0,\"ticks\":\"\"}},\"marker\":{\"colorbar\":{\"outlinewidth\":0,\"ticks\":\"\"}}}],\"scattermapbox\":[{\"type\":\"scattermapbox\",\"marker\":{\"colorbar\":{\"outlinewidth\":0,\"ticks\":\"\"}}}],\"scatterternary\":[{\"type\":\"scatterternary\",\"marker\":{\"colorbar\":{\"outlinewidth\":0,\"ticks\":\"\"}}}],\"scattercarpet\":[{\"type\":\"scattercarpet\",\"marker\":{\"colorbar\":{\"outlinewidth\":0,\"ticks\":\"\"}}}],\"carpet\":[{\"aaxis\":{\"endlinecolor\":\"#2a3f5f\",\"gridcolor\":\"white\",\"linecolor\":\"white\",\"minorgridcolor\":\"white\",\"startlinecolor\":\"#2a3f5f\"},\"baxis\":{\"endlinecolor\":\"#2a3f5f\",\"gridcolor\":\"white\",\"linecolor\":\"white\",\"minorgridcolor\":\"white\",\"startlinecolor\":\"#2a3f5f\"},\"type\":\"carpet\"}],\"table\":[{\"cells\":{\"fill\":{\"color\":\"#EBF0F8\"},\"line\":{\"color\":\"white\"}},\"header\":{\"fill\":{\"color\":\"#C8D4E3\"},\"line\":{\"color\":\"white\"}},\"type\":\"table\"}],\"barpolar\":[{\"marker\":{\"line\":{\"color\":\"#E5ECF6\",\"width\":0.5},\"pattern\":{\"fillmode\":\"overlay\",\"size\":10,\"solidity\":0.2}},\"type\":\"barpolar\"}],\"pie\":[{\"automargin\":true,\"type\":\"pie\"}]},\"layout\":{\"autotypenumbers\":\"strict\",\"colorway\":[\"#636efa\",\"#EF553B\",\"#00cc96\",\"#ab63fa\",\"#FFA15A\",\"#19d3f3\",\"#FF6692\",\"#B6E880\",\"#FF97FF\",\"#FECB52\"],\"font\":{\"color\":\"#2a3f5f\"},\"hovermode\":\"closest\",\"hoverlabel\":{\"align\":\"left\"},\"paper_bgcolor\":\"white\",\"plot_bgcolor\":\"#E5ECF6\",\"polar\":{\"bgcolor\":\"#E5ECF6\",\"angularaxis\":{\"gridcolor\":\"white\",\"linecolor\":\"white\",\"ticks\":\"\"},\"radialaxis\":{\"gridcolor\":\"white\",\"linecolor\":\"white\",\"ticks\":\"\"}},\"ternary\":{\"bgcolor\":\"#E5ECF6\",\"aaxis\":{\"gridcolor\":\"white\",\"linecolor\":\"white\",\"ticks\":\"\"},\"baxis\":{\"gridcolor\":\"white\",\"linecolor\":\"white\",\"ticks\":\"\"},\"caxis\":{\"gridcolor\":\"white\",\"linecolor\":\"white\",\"ticks\":\"\"}},\"coloraxis\":{\"colorbar\":{\"outlinewidth\":0,\"ticks\":\"\"}},\"colorscale\":{\"sequential\":[[0.0,\"#0d0887\"],[0.1111111111111111,\"#46039f\"],[0.2222222222222222,\"#7201a8\"],[0.3333333333333333,\"#9c179e\"],[0.4444444444444444,\"#bd3786\"],[0.5555555555555556,\"#d8576b\"],[0.6666666666666666,\"#ed7953\"],[0.7777777777777778,\"#fb9f3a\"],[0.8888888888888888,\"#fdca26\"],[1.0,\"#f0f921\"]],\"sequentialminus\":[[0.0,\"#0d0887\"],[0.1111111111111111,\"#46039f\"],[0.2222222222222222,\"#7201a8\"],[0.3333333333333333,\"#9c179e\"],[0.4444444444444444,\"#bd3786\"],[0.5555555555555556,\"#d8576b\"],[0.6666666666666666,\"#ed7953\"],[0.7777777777777778,\"#fb9f3a\"],[0.8888888888888888,\"#fdca26\"],[1.0,\"#f0f921\"]],\"diverging\":[[0,\"#8e0152\"],[0.1,\"#c51b7d\"],[0.2,\"#de77ae\"],[0.3,\"#f1b6da\"],[0.4,\"#fde0ef\"],[0.5,\"#f7f7f7\"],[0.6,\"#e6f5d0\"],[0.7,\"#b8e186\"],[0.8,\"#7fbc41\"],[0.9,\"#4d9221\"],[1,\"#276419\"]]},\"xaxis\":{\"gridcolor\":\"white\",\"linecolor\":\"white\",\"ticks\":\"\",\"title\":{\"standoff\":15},\"zerolinecolor\":\"white\",\"automargin\":true,\"zerolinewidth\":2},\"yaxis\":{\"gridcolor\":\"white\",\"linecolor\":\"white\",\"ticks\":\"\",\"title\":{\"standoff\":15},\"zerolinecolor\":\"white\",\"automargin\":true,\"zerolinewidth\":2},\"scene\":{\"xaxis\":{\"backgroundcolor\":\"#E5ECF6\",\"gridcolor\":\"white\",\"linecolor\":\"white\",\"showbackground\":true,\"ticks\":\"\",\"zerolinecolor\":\"white\",\"gridwidth\":2},\"yaxis\":{\"backgroundcolor\":\"#E5ECF6\",\"gridcolor\":\"white\",\"linecolor\":\"white\",\"showbackground\":true,\"ticks\":\"\",\"zerolinecolor\":\"white\",\"gridwidth\":2},\"zaxis\":{\"backgroundcolor\":\"#E5ECF6\",\"gridcolor\":\"white\",\"linecolor\":\"white\",\"showbackground\":true,\"ticks\":\"\",\"zerolinecolor\":\"white\",\"gridwidth\":2}},\"shapedefaults\":{\"line\":{\"color\":\"#2a3f5f\"}},\"annotationdefaults\":{\"arrowcolor\":\"#2a3f5f\",\"arrowhead\":0,\"arrowwidth\":1},\"geo\":{\"bgcolor\":\"white\",\"landcolor\":\"#E5ECF6\",\"subunitcolor\":\"white\",\"showland\":true,\"showlakes\":true,\"lakecolor\":\"white\"},\"title\":{\"x\":0.05},\"mapbox\":{\"style\":\"light\"}}},\"xaxis\":{\"anchor\":\"y\",\"domain\":[0.0,1.0],\"title\":{\"text\":\"categories\"}},\"yaxis\":{\"anchor\":\"x\",\"domain\":[0.0,1.0],\"title\":{\"text\":\"values\"}},\"legend\":{\"tracegroupgap\":0},\"title\":{\"text\":\"Simple Bar Plot\"},\"barmode\":\"relative\"},                        {\"responsive\": true}                    ).then(function(){\n",
              "                            \n",
              "var gd = document.getElementById('7ef47dd0-2492-4931-9d8d-b780dff7dd87');\n",
              "var x = new MutationObserver(function (mutations, observer) {{\n",
              "        var display = window.getComputedStyle(gd).display;\n",
              "        if (!display || display === 'none') {{\n",
              "            console.log([gd, 'removed!']);\n",
              "            Plotly.purge(gd);\n",
              "            observer.disconnect();\n",
              "        }}\n",
              "}});\n",
              "\n",
              "// Listen for the removal of the full notebook cells\n",
              "var notebookContainer = gd.closest('#notebook-container');\n",
              "if (notebookContainer) {{\n",
              "    x.observe(notebookContainer, {childList: true});\n",
              "}}\n",
              "\n",
              "// Listen for the clearing of the current output cell\n",
              "var outputEl = gd.closest('.output');\n",
              "if (outputEl) {{\n",
              "    x.observe(outputEl, {childList: true});\n",
              "}}\n",
              "\n",
              "                        })                };                            </script>        </div>\n",
              "</body>\n",
              "</html>"
            ]
          },
          "metadata": {}
        }
      ]
    },
    {
      "cell_type": "markdown",
      "source": [
        " Q 6 Create a DataFrame and add a new column based on an existing column.\n",
        ""
      ],
      "metadata": {
        "id": "5WP_4ot57LCv"
      }
    },
    {
      "cell_type": "code",
      "source": [
        "import pandas as pd\n",
        "\n",
        "# Create a sample DataFrame\n",
        "data = {'Product': ['A', 'B', 'C', 'D'],\n",
        "        'Price': [10, 20, 15, 25]}\n",
        "df = pd.DataFrame(data)\n",
        "\n",
        "# Add a new column 'Tax' based on 'Price' (e.g., 10% tax)\n",
        "df['Tax'] = df['Price'] * 0.1\n",
        "\n",
        "# Add a new column 'Total' by summing 'Price' and 'Tax'\n",
        "df['Total'] = df['Price'] + df['Tax']\n",
        "\n",
        "# Print the DataFrame with the new columns\n",
        "print(df)"
      ],
      "metadata": {
        "colab": {
          "base_uri": "https://localhost:8080/"
        },
        "id": "9p7pvBW67Uas",
        "outputId": "9b5dc4a1-3007-4742-adab-d841ddf76089"
      },
      "execution_count": 10,
      "outputs": [
        {
          "output_type": "stream",
          "name": "stdout",
          "text": [
            "  Product  Price  Tax  Total\n",
            "0       A     10  1.0   11.0\n",
            "1       B     20  2.0   22.0\n",
            "2       C     15  1.5   16.5\n",
            "3       D     25  2.5   27.5\n"
          ]
        }
      ]
    },
    {
      "cell_type": "markdown",
      "source": [
        " Q 7  Write a program to perform element-wise multiplication of two NumPy arrays.\n",
        "\n",
        " ANSWER\n",
        ""
      ],
      "metadata": {
        "id": "n4-W7PS97XdN"
      }
    },
    {
      "cell_type": "code",
      "source": [
        "import numpy as np\n",
        "\n",
        "def multiply_arrays(array1, array2):\n",
        "    \"\"\"\n",
        "    Performs element-wise multiplication of two NumPy arrays.\n",
        "\n",
        "    Args:\n",
        "        array1 (numpy.ndarray): The first array.\n",
        "        array2 (numpy.ndarray): The second array.\n",
        "\n",
        "    Returns:\n",
        "        numpy.ndarray: A new array containing the element-wise products.\n",
        "                       Returns None if the arrays are not of the same shape.\n",
        "    \"\"\"\n",
        "    if array1.shape != array2.shape:\n",
        "        print(\"Arrays must have the same shape for element-wise multiplication.\")\n",
        "        return None\n",
        "    return np.multiply(array1, array2)\n",
        "\n",
        "if __name__ == '__main__':\n",
        "    array1 = np.array([[1, 2, 3], [4, 5, 6]])\n",
        "    array2 = np.array([[7, 8, 9], [10, 11, 12]])\n",
        "\n",
        "    result_array = multiply_arrays(array1, array2)\n",
        "\n",
        "    if result_array is not None:\n",
        "        print(\"Array 1:\")\n",
        "        print(array1)\n",
        "        print(\"Array 2:\")\n",
        "        print(array2)\n",
        "        print(\"Element-wise product:\")\n",
        "        print(result_array)"
      ],
      "metadata": {
        "colab": {
          "base_uri": "https://localhost:8080/"
        },
        "id": "Iua8jJC47lWe",
        "outputId": "8619237a-5110-4902-b5f5-d48fb39994a6"
      },
      "execution_count": 11,
      "outputs": [
        {
          "output_type": "stream",
          "name": "stdout",
          "text": [
            "Array 1:\n",
            "[[1 2 3]\n",
            " [4 5 6]]\n",
            "Array 2:\n",
            "[[ 7  8  9]\n",
            " [10 11 12]]\n",
            "Element-wise product:\n",
            "[[ 7 16 27]\n",
            " [40 55 72]]\n"
          ]
        }
      ]
    },
    {
      "cell_type": "markdown",
      "source": [
        " Q 8 Create a line plot with multiple lines using Matplotlib.\n",
        "\n",
        " ANSWER\n",
        "\n",
        ""
      ],
      "metadata": {
        "id": "IGo8u_267pjt"
      }
    },
    {
      "cell_type": "code",
      "source": [
        "import matplotlib.pyplot as plt\n",
        "import numpy as np\n",
        "\n",
        "# Sample data for multiple lines\n",
        "x = np.arange(0, 10, 1)\n",
        "y1 = x\n",
        "y2 = x**2\n",
        "y3 = x**3\n",
        "\n",
        "# Plotting the lines\n",
        "plt.plot(x, y1, label='Linear')\n",
        "plt.plot(x, y2, label='Quadratic')\n",
        "plt.plot(x, y3, label='Cubic')\n",
        "\n",
        "# Adding labels and title\n",
        "plt.xlabel('X-axis')\n",
        "plt.ylabel('Y-axis')\n",
        "plt.title('Multiple Lines Plot')\n",
        "\n",
        "# Adding a legend\n",
        "plt.legend()\n",
        "\n",
        "# Displaying the plot\n",
        "plt.show()"
      ],
      "metadata": {
        "colab": {
          "base_uri": "https://localhost:8080/",
          "height": 472
        },
        "id": "jTGu2Aq875G-",
        "outputId": "597c07f1-54a7-4052-d9f3-675613cb93a3"
      },
      "execution_count": 12,
      "outputs": [
        {
          "output_type": "display_data",
          "data": {
            "text/plain": [
              "<Figure size 640x480 with 1 Axes>"
            ],
            "image/png": "[encoded data removed]"
          },
          "metadata": {}
        }
      ]
    },
    {
      "cell_type": "markdown",
      "source": [
        " Q 9  Generate a Pandas DataFrame and filter rows where a column value is greater than a thresholdA\n",
        "  ANSWER\n",
        "\n",
        "  "
      ],
      "metadata": {
        "id": "MmQYNt-n79eW"
      }
    },
    {
      "cell_type": "code",
      "source": [
        "import pandas as pd\n",
        "import numpy as np\n",
        "\n",
        "# Create a sample DataFrame\n",
        "data = {'col_A': np.random.randint(1, 100, 10),\n",
        "        'col_B': np.random.rand(10),\n",
        "        'col_C': ['P', 'Q', 'R', 'S', 'T', 'U', 'V', 'W', 'X', 'Y']}\n",
        "df = pd.DataFrame(data)\n",
        "\n",
        "# Define a threshold\n",
        "threshold = 50\n",
        "\n",
        "# Filter rows where 'col_A' is greater than the threshold\n",
        "filtered_df = df[df['col_A'] > threshold]\n",
        "\n",
        "print(\"Original DataFrame:\")\n",
        "print(df)\n",
        "print(\"\\nFiltered DataFrame (col_A > {}):\".format(threshold))\n",
        "print(filtered_df)"
      ],
      "metadata": {
        "colab": {
          "base_uri": "https://localhost:8080/"
        },
        "id": "EK1GIgnm8CuD",
        "outputId": "d68cdb94-fa4b-4ccf-d941-6a6673ac042a"
      },
      "execution_count": 13,
      "outputs": [
        {
          "output_type": "stream",
          "name": "stdout",
          "text": [
            "Original DataFrame:\n",
            "   col_A     col_B col_C\n",
            "0     54  0.361180     P\n",
            "1     24  0.865574     Q\n",
            "2     38  0.560494     R\n",
            "3     42  0.404574     S\n",
            "4     19  0.056679     T\n",
            "5     64  0.704502     U\n",
            "6     77  0.117174     V\n",
            "7      6  0.061893     W\n",
            "8      8  0.672019     X\n",
            "9     12  0.369771     Y\n",
            "\n",
            "Filtered DataFrame (col_A > 50):\n",
            "   col_A     col_B col_C\n",
            "0     54  0.361180     P\n",
            "5     64  0.704502     U\n",
            "6     77  0.117174     V\n"
          ]
        }
      ]
    },
    {
      "cell_type": "markdown",
      "source": [
        " Q 10 Create a histogram using Seaborn to visualize a distribution\n",
        "\n",
        " ANSWER\n",
        "\n",
        ""
      ],
      "metadata": {
        "id": "cEvdHu8q8L2F"
      }
    },
    {
      "cell_type": "code",
      "source": [
        "import seaborn as sns\n",
        "import matplotlib.pyplot as plt\n",
        "\n",
        "data = sns.load_dataset('iris') # Example using a built-in dataset\n",
        "# or\n",
        "# data = [1, 2, 2, 3, 3, 3, 4, 4, 5] # Example using a list\n",
        "\n",
        "sns.histplot(data=data, x='sepal_length', bins=10) # 'x' specifies the data column, 'bins' controls the number of bins\n",
        "plt.show()\n",
        "\n",
        "sns.histplot(data=data, x='sepal_length', bins=20, kde=True, color='skyblue', edgecolor='black')\n",
        "plt.title('Distribution of Sepal Length')\n",
        "plt.xlabel('Sepal Length (cm)')\n",
        "plt.ylabel('Frequency')\n",
        "plt.show()"
      ],
      "metadata": {
        "colab": {
          "base_uri": "https://localhost:8080/",
          "height": 905
        },
        "id": "PffMK1LV8qnv",
        "outputId": "38abea0a-f09b-4ea7-f842-17d4f2a2d3a6"
      },
      "execution_count": 15,
      "outputs": [
        {
          "output_type": "display_data",
          "data": {
            "text/plain": [
              "<Figure size 640x480 with 1 Axes>"
            ],
            "image/png": "[encoded data removed]"
          },
          "metadata": {}
        },
        {
          "output_type": "display_data",
          "data": {
            "text/plain": [
              "<Figure size 640x480 with 1 Axes>"
            ],
            "image/png": "[encoded data removed]"
          },
          "metadata": {}
        }
      ]
    },
    {
      "cell_type": "markdown",
      "source": [
        "Q 11  Perform matrix multiplication using NumPy\n",
        "\n",
        "ANSWER"
      ],
      "metadata": {
        "id": "vJRsz_n_8t8v"
      }
    },
    {
      "cell_type": "code",
      "source": [
        "import numpy as np\n",
        "\n",
        "# Define two matrices\n",
        "matrix_a = np.array([[1, 2], [3, 4]])\n",
        "matrix_b = np.array([[5, 6], [7, 8]])\n",
        "\n",
        "# Perform matrix multiplication using np.matmul()\n",
        "product_matmul = np.matmul(matrix_a, matrix_b)\n",
        "print(\"Product using np.matmul():\\n\", product_matmul)\n",
        "\n",
        "# Perform matrix multiplication using the @ operator\n",
        "product_at = matrix_a @ matrix_b\n",
        "print(\"Product using @ operator:\\n\", product_at)"
      ],
      "metadata": {
        "colab": {
          "base_uri": "https://localhost:8080/"
        },
        "id": "ou2Go7yE89-Q",
        "outputId": "ca698132-149c-44bf-d66f-8afeebc95629"
      },
      "execution_count": 16,
      "outputs": [
        {
          "output_type": "stream",
          "name": "stdout",
          "text": [
            "Product using np.matmul():\n",
            " [[19 22]\n",
            " [43 50]]\n",
            "Product using @ operator:\n",
            " [[19 22]\n",
            " [43 50]]\n"
          ]
        }
      ]
    },
    {
      "cell_type": "markdown",
      "source": [
        "Q 12 Use Pandas to load a CSV file and display its first 5 rows\n",
        "\n",
        "ANSWER\n",
        "\n"
      ],
      "metadata": {
        "id": "BycySMAx9DmU"
      }
    },
    {
      "cell_type": "code",
      "source": [
        "import pandas as pd\n",
        "import os # Import the os module\n",
        "\n",
        "# Print the current working directory to verify where the script is looking for the file\n",
        "print(f\"Current working directory: {os.getcwd()}\")\n",
        "\n",
        "# List files in the current directory to check if 'data.csv' exists\n",
        "print(f\"Files in current directory: {os.listdir()}\")\n",
        "\n",
        "# Load CSV file\n",
        "# Replace 'data.csv' with the correct path if the file is not in the current directory\n",
        "try:\n",
        "    df = pd.read_csv('data.csv')\n",
        "\n",
        "    # Display first 5 rows of the dataset\n",
        "    print(df.head())\n",
        "except FileNotFoundError:\n",
        "    print(\"Error: 'data.csv' not found. Please ensure the file is in the correct directory or provide the full path.\")"
      ],
      "metadata": {
        "colab": {
          "base_uri": "https://localhost:8080/"
        },
        "id": "aKE9qeF3CHp5",
        "outputId": "56bfa6d4-664f-42bd-d8e1-f24954a3cb84"
      },
      "execution_count": 43,
      "outputs": [
        {
          "output_type": "stream",
          "name": "stdout",
          "text": [
            "Current working directory: /content\n",
            "Files in current directory: ['.config', 'sample_data.csv', 'sample_data']\n",
            "Error: 'data.csv' not found. Please ensure the file is in the correct directory or provide the full path.\n"
          ]
        }
      ]
    },
    {
      "cell_type": "markdown",
      "source": [
        " q 13  Create a 3D scatter plot using Plotly\n",
        "\n",
        " answer\n",
        "\n",
        ""
      ],
      "metadata": {
        "id": "6zE4DyVnCRpM"
      }
    },
    {
      "cell_type": "code",
      "source": [
        "import plotly.graph_objects as go\n",
        "import numpy as np\n",
        "\n",
        "# Generate random data for the plot\n",
        "np.random.seed(42)\n",
        "x = np.random.randn(100)\n",
        "y = np.random.randn(100)\n",
        "z = np.random.randn(100)\n",
        "colors = np.random.rand(100)\n",
        "sizes = np.random.randint(10, 30, 100)\n",
        "\n",
        "# Create the 3D scatter plot\n",
        "fig = go.Figure(data=[go.Scatter3d(\n",
        "    x=x,\n",
        "    y=y,\n",
        "    z=z,\n",
        "    mode='markers',\n",
        "    marker=dict(\n",
        "        size=sizes,\n",
        "        color=colors,\n",
        "        opacity=0.8,\n",
        "        colorscale='Viridis'\n",
        "    )\n",
        ")])\n",
        "\n",
        "# Customize the layout (optional)\n",
        "fig.update_layout(\n",
        "    title='3D Scatter Plot Example',\n",
        "    scene=dict(\n",
        "        xaxis_title='X Axis',\n",
        "        yaxis_title='Y Axis',\n",
        "        zaxis_title='Z Axis'\n",
        "    ),\n",
        "    margin=dict(l=0, r=0, b=0, t=40)\n",
        ")\n",
        "\n",
        "# Show the plot\n",
        "fig.show()"
      ],
      "metadata": {
        "colab": {
          "base_uri": "https://localhost:8080/",
          "height": 542
        },
        "id": "vzp-c53XCXKB",
        "outputId": "becc14da-0b2d-4d67-8dca-0ae5accc587e"
      },
      "execution_count": 44,
      "outputs": [
        {
          "output_type": "display_data",
          "data": {
            "text/html": [
              "<html>\n",
              "<head><meta charset=\"utf-8\" /></head>\n",
              "<body>\n",
              "    <div>            <script src=\"https://cdnjs.cloudflare.com/ajax/libs/mathjax/2.7.5/MathJax.js?config=TeX-AMS-MML_SVG\"></script><script type=\"text/javascript\">if (window.MathJax && window.MathJax.Hub && window.MathJax.Hub.Config) {window.MathJax.Hub.Config({SVG: {font: \"STIX-Web\"}});}</script>                <script type=\"text/javascript\">window.PlotlyConfig = {MathJaxConfig: 'local'};</script>\n",
              "        <script charset=\"utf-8\" src=\"https://cdn.plot.ly/plotly-2.35.2.min.js\"></script>                <div id=\"3f8dd704-ba6d-449d-90d2-b011de64a377\" class=\"plotly-graph-div\" style=\"height:525px; width:100%;\"></div>            <script type=\"text/javascript\">                                    window.PLOTLYENV=window.PLOTLYENV || {};                                    if (document.getElementById(\"3f8dd704-ba6d-449d-90d2-b011de64a377\")) {                    Plotly.newPlot(                        \"3f8dd704-ba6d-449d-90d2-b011de64a377\",                        [{\"marker\":{\"color\":[0.2820345725713065,0.17743954377972282,0.7506147516408583,0.806834739267264,0.9905051420006733,0.4126176769114265,0.37201808579278317,0.7764129607419968,0.34080354025301784,0.9307573256035647,0.8584127518430118,0.42899402737501835,0.7508710677914974,0.7545428740846823,0.10312386883593261,0.9025529066795667,0.5052523724478571,0.8264574661077416,0.32004960103061175,0.8955232284962005,0.3892016787341631,0.01083765148029836,0.9053819764192637,0.09128667678613356,0.31931363759041487,0.9500619670508049,0.9506071469375561,0.5734378881232861,0.6318372121697993,0.44844552197831977,0.29321077169806453,0.32866454536991596,0.6725184560770384,0.75237452943768,0.7915790437258485,0.7896181427945539,0.09120610304869037,0.49442030470258147,0.057558760016644284,0.5495288823237355,0.441530501373377,0.8877041827582998,0.3509150125520787,0.11706701642760586,0.14299168205283586,0.7615106317174722,0.6182180633162611,0.10112267612279024,0.08410680611499743,0.70096913145912,0.07276300636419353,0.8218600592903562,0.7062422271564962,0.08134878064189976,0.08483771408519192,0.9866395785011755,0.3742707957561203,0.3706421470668909,0.8127995672575026,0.9472485773838587,0.9860010638228709,0.7533781852589416,0.37625958553091576,0.08350071669866876,0.7771469159274368,0.558404249735805,0.4242220092469763,0.906354385094736,0.11119748230615134,0.49262510429085915,0.011353644767419069,0.46866064199412627,0.05630327568183735,0.11881791626807192,0.11752624677710488,0.6492103021160636,0.7460448792654233,0.5833687650971596,0.9621725484745419,0.37487057952370406,0.28571208628186073,0.8685991281894603,0.22359583851945264,0.9632225394406113,0.012154474689816341,0.969878826707639,0.04315991195057611,0.8911431136980711,0.5277011090862999,0.9929647961193003,0.07379656473539886,0.5538542844013208,0.969302535619099,0.5230978441701488,0.6293986381352625,0.6957486889846172,0.45454106476777323,0.6275580800840634,0.5843143119231002,0.901158010490989],\"colorscale\":[[0.0,\"#440154\"],[0.1111111111111111,\"#482878\"],[0.2222222222222222,\"#3e4989\"],[0.3333333333333333,\"#31688e\"],[0.4444444444444444,\"#26828e\"],[0.5555555555555556,\"#1f9e89\"],[0.6666666666666666,\"#35b779\"],[0.7777777777777778,\"#6ece58\"],[0.8888888888888888,\"#b5de2b\"],[1.0,\"#fde725\"]],\"opacity\":0.8,\"size\":[20,21,19,25,17,15,21,17,13,17,27,14,18,13,26,18,10,29,22,25,22,23,12,15,27,28,14,24,11,19,27,22,14,10,10,27,24,26,20,26,22,10,11,18,12,10,25,15,26,14,14,15,12,14,14,19,19,28,26,23,18,23,10,28,22,22,13,10,26,17,11,17,16,11,12,27,21,10,21,14,26,25,24,24,14,23,11,20,28,16,15,11,15,27,11,27,24,28,11,29]},\"mode\":\"markers\",\"x\":[0.4967141530112327,-0.13826430117118466,0.6476885381006925,1.5230298564080254,-0.23415337472333597,-0.23413695694918055,1.5792128155073915,0.7674347291529088,-0.4694743859349521,0.5425600435859647,-0.46341769281246226,-0.46572975357025687,0.24196227156603412,-1.913280244657798,-1.7249178325130328,-0.5622875292409727,-1.0128311203344238,0.3142473325952739,-0.9080240755212109,-1.4123037013352915,1.465648768921554,-0.22577630048653566,0.06752820468792384,-1.4247481862134568,-0.5443827245251827,0.11092258970986608,-1.1509935774223028,0.37569801834567196,-0.600638689918805,-0.2916937497932768,-0.6017066122293969,1.8522781845089378,-0.013497224737933921,-1.0577109289559004,0.822544912103189,-1.2208436499710222,0.2088635950047554,-1.9596701238797756,-1.3281860488984305,0.19686123586912352,0.7384665799954104,0.1713682811899705,-0.11564828238824053,-0.3011036955892888,-1.4785219903674274,-0.7198442083947086,-0.4606387709597875,1.0571222262189157,0.3436182895684614,-1.763040155362734,0.324083969394795,-0.38508228041631654,-0.6769220003059587,0.6116762888408679,1.030999522495951,0.9312801191161986,-0.8392175232226385,-0.3092123758512146,0.33126343140356396,0.9755451271223592,-0.47917423784528995,-0.18565897666381712,-1.1063349740060282,-1.1962066240806708,0.812525822394198,1.356240028570823,-0.07201012158033385,1.0035328978920242,0.36163602504763415,-0.6451197546051243,0.36139560550841393,1.5380365664659692,-0.03582603910995154,1.5646436558140062,-2.6197451040897444,0.8219025043752238,0.08704706823817122,-0.29900735046586746,0.0917607765355023,-1.9875689146008928,-0.21967188783751193,0.3571125715117464,1.477894044741516,-0.5182702182736474,-0.8084936028931876,-0.5017570435845365,0.9154021177020741,0.32875110965968446,-0.5297602037670388,0.5132674331133561,0.09707754934804039,0.9686449905328892,-0.7020530938773524,-0.3276621465977682,-0.39210815313215763,-1.4635149481321186,0.29612027706457605,0.26105527217988933,0.00511345664246089,-0.23458713337514692],\"y\":[-1.4153707420504142,-0.42064532276535904,-0.3427145165267695,-0.8022772692216189,-0.16128571166600914,0.4040508568145384,1.8861859012105302,0.17457781283183896,0.25755039072276437,-0.07444591576616721,-1.9187712152990415,-0.026513875449216878,0.06023020994102644,2.463242112485286,-0.19236096478112252,0.30154734233361247,-0.03471176970524331,-1.168678037619532,1.1428228145150205,0.7519330326867741,0.7910319470430469,-0.9093874547947389,1.4027943109360992,-1.4018510627922809,0.5868570938002703,2.1904556258099785,-0.9905363251306883,-0.5662977296027719,0.09965136508764122,-0.5034756541161992,-1.5506634310661327,0.06856297480602733,-1.0623037137261049,0.4735924306351816,-0.9194242342338032,1.5499344050175394,-0.7832532923362371,-0.3220615162056756,0.8135172173696698,-1.2308643164339552,0.22745993460412942,1.307142754282428,-1.6074832345612275,0.1846338585323042,0.25988279424842353,0.7818228717773104,-1.236950710878082,-1.3204566130842763,0.5219415656168976,0.29698467323318606,0.25049285034587654,0.3464482094969757,-0.6800247215784908,0.23225369716100355,0.29307247329868125,-0.7143514180263678,1.8657745111447566,0.4738329209117875,-1.1913034972026486,0.6565536086338297,-0.9746816702273214,0.787084603742452,1.158595579007404,-0.8206823183517105,0.9633761292443218,0.4127809269364983,0.82206015999449,1.8967929826539474,-0.2453881160028705,-0.7537361643574896,-0.8895144296255233,-0.8158102849654383,-0.0771017094141042,0.3411519748166439,0.27669079933001905,0.8271832490360238,0.01300189187790702,1.4535340771573169,-0.2646568332379561,2.720169166589619,0.6256673477650062,-0.8571575564162826,-1.0708924980611123,0.4824724152431853,-0.2234627853258509,0.714000494092092,0.47323762457354485,-0.07282891265687277,-0.846793718068405,-1.5148472246858646,-0.4465149520670211,0.8563987943234723,0.21409374413020396,-1.245738778711988,0.173180925851182,0.3853173797288368,-0.883857436201133,0.1537251059455279,0.058208718445999896,-1.142970297830623],\"z\":[0.3577873603482833,0.5607845263682344,1.083051243175277,1.053802052034903,-1.377669367957091,-0.9378250399151228,0.5150352672086598,0.5137859509122088,0.5150476863060479,3.852731490654721,0.570890510693167,1.135565640180599,0.9540017634932023,0.651391251305798,-0.3152692446403456,0.7589692204932674,-0.7728252145375718,-0.23681860674000887,-0.48536354782910346,0.08187413938632256,2.3146585666735087,-1.867265192591748,0.6862601903745135,-1.6127158711896517,-0.47193186578943347,1.088950596967366,0.06428001909546277,-1.0777447779293061,-0.7153037092599682,0.6795977489346758,-0.7303666317171367,0.21645858958197486,0.045571839903813784,-0.6516003476058171,2.1439440893253257,0.6339190223180112,-2.025142586657607,0.18645431476942764,-0.661786464768388,0.852433334796224,-0.7925207384327007,-0.11473644146689901,0.5049872789804571,0.8657551941701215,-1.2002964070557762,-0.3345012358409484,-0.4749453111609562,-0.6533292325737119,1.7654542402810969,0.40498171096095553,-1.2608839543350452,0.9178619470547761,2.1221561970126332,1.0324652605511468,-1.5193699659540134,-0.48423407286625136,1.2669111491866227,-0.7076694656187807,0.44381942814622843,0.7746340534293368,-0.926930471578083,-0.05952535606180008,-3.2412673400690726,-1.0243876413342898,-0.2525681513931603,-1.2477831819648495,1.6324113039316352,-1.4301413779606327,-0.44004448669698376,0.13074057728609134,1.4412732890661155,-1.4358621511794394,1.1631637521549596,0.010233061019587049,-0.9815086510479509,0.46210347426327075,0.19905969557347003,-0.6002168771587947,0.06980208499001891,-0.3853135968617602,0.11351734525124804,0.6621306745210467,1.586016816145352,-1.237815498826849,2.1330333746562666,-1.9520877995225019,-0.15178509503558332,0.5883172064845765,0.28099186773503265,-0.6226995198205938,-0.20812225035727522,-0.4930009346588328,-0.5893647569442115,0.8496020970210246,0.35701548596504734,-0.6929095952606542,0.8995998754332507,0.30729952087660933,0.8128621188389601,0.6296288419236122],\"type\":\"scatter3d\"}],                        {\"template\":{\"data\":{\"histogram2dcontour\":[{\"type\":\"histogram2dcontour\",\"colorbar\":{\"outlinewidth\":0,\"ticks\":\"\"},\"colorscale\":[[0.0,\"#0d0887\"],[0.1111111111111111,\"#46039f\"],[0.2222222222222222,\"#7201a8\"],[0.3333333333333333,\"#9c179e\"],[0.4444444444444444,\"#bd3786\"],[0.5555555555555556,\"#d8576b\"],[0.6666666666666666,\"#ed7953\"],[0.7777777777777778,\"#fb9f3a\"],[0.8888888888888888,\"#fdca26\"],[1.0,\"#f0f921\"]]}],\"choropleth\":[{\"type\":\"choropleth\",\"colorbar\":{\"outlinewidth\":0,\"ticks\":\"\"}}],\"histogram2d\":[{\"type\":\"histogram2d\",\"colorbar\":{\"outlinewidth\":0,\"ticks\":\"\"},\"colorscale\":[[0.0,\"#0d0887\"],[0.1111111111111111,\"#46039f\"],[0.2222222222222222,\"#7201a8\"],[0.3333333333333333,\"#9c179e\"],[0.4444444444444444,\"#bd3786\"],[0.5555555555555556,\"#d8576b\"],[0.6666666666666666,\"#ed7953\"],[0.7777777777777778,\"#fb9f3a\"],[0.8888888888888888,\"#fdca26\"],[1.0,\"#f0f921\"]]}],\"heatmap\":[{\"type\":\"heatmap\",\"colorbar\":{\"outlinewidth\":0,\"ticks\":\"\"},\"colorscale\":[[0.0,\"#0d0887\"],[0.1111111111111111,\"#46039f\"],[0.2222222222222222,\"#7201a8\"],[0.3333333333333333,\"#9c179e\"],[0.4444444444444444,\"#bd3786\"],[0.5555555555555556,\"#d8576b\"],[0.6666666666666666,\"#ed7953\"],[0.7777777777777778,\"#fb9f3a\"],[0.8888888888888888,\"#fdca26\"],[1.0,\"#f0f921\"]]}],\"heatmapgl\":[{\"type\":\"heatmapgl\",\"colorbar\":{\"outlinewidth\":0,\"ticks\":\"\"},\"colorscale\":[[0.0,\"#0d0887\"],[0.1111111111111111,\"#46039f\"],[0.2222222222222222,\"#7201a8\"],[0.3333333333333333,\"#9c179e\"],[0.4444444444444444,\"#bd3786\"],[0.5555555555555556,\"#d8576b\"],[0.6666666666666666,\"#ed7953\"],[0.7777777777777778,\"#fb9f3a\"],[0.8888888888888888,\"#fdca26\"],[1.0,\"#f0f921\"]]}],\"contourcarpet\":[{\"type\":\"contourcarpet\",\"colorbar\":{\"outlinewidth\":0,\"ticks\":\"\"}}],\"contour\":[{\"type\":\"contour\",\"colorbar\":{\"outlinewidth\":0,\"ticks\":\"\"},\"colorscale\":[[0.0,\"#0d0887\"],[0.1111111111111111,\"#46039f\"],[0.2222222222222222,\"#7201a8\"],[0.3333333333333333,\"#9c179e\"],[0.4444444444444444,\"#bd3786\"],[0.5555555555555556,\"#d8576b\"],[0.6666666666666666,\"#ed7953\"],[0.7777777777777778,\"#fb9f3a\"],[0.8888888888888888,\"#fdca26\"],[1.0,\"#f0f921\"]]}],\"surface\":[{\"type\":\"surface\",\"colorbar\":{\"outlinewidth\":0,\"ticks\":\"\"},\"colorscale\":[[0.0,\"#0d0887\"],[0.1111111111111111,\"#46039f\"],[0.2222222222222222,\"#7201a8\"],[0.3333333333333333,\"#9c179e\"],[0.4444444444444444,\"#bd3786\"],[0.5555555555555556,\"#d8576b\"],[0.6666666666666666,\"#ed7953\"],[0.7777777777777778,\"#fb9f3a\"],[0.8888888888888888,\"#fdca26\"],[1.0,\"#f0f921\"]]}],\"mesh3d\":[{\"type\":\"mesh3d\",\"colorbar\":{\"outlinewidth\":0,\"ticks\":\"\"}}],\"scatter\":[{\"fillpattern\":{\"fillmode\":\"overlay\",\"size\":10,\"solidity\":0.2},\"type\":\"scatter\"}],\"parcoords\":[{\"type\":\"parcoords\",\"line\":{\"colorbar\":{\"outlinewidth\":0,\"ticks\":\"\"}}}],\"scatterpolargl\":[{\"type\":\"scatterpolargl\",\"marker\":{\"colorbar\":{\"outlinewidth\":0,\"ticks\":\"\"}}}],\"bar\":[{\"error_x\":{\"color\":\"#2a3f5f\"},\"error_y\":{\"color\":\"#2a3f5f\"},\"marker\":{\"line\":{\"color\":\"#E5ECF6\",\"width\":0.5},\"pattern\":{\"fillmode\":\"overlay\",\"size\":10,\"solidity\":0.2}},\"type\":\"bar\"}],\"scattergeo\":[{\"type\":\"scattergeo\",\"marker\":{\"colorbar\":{\"outlinewidth\":0,\"ticks\":\"\"}}}],\"scatterpolar\":[{\"type\":\"scatterpolar\",\"marker\":{\"colorbar\":{\"outlinewidth\":0,\"ticks\":\"\"}}}],\"histogram\":[{\"marker\":{\"pattern\":{\"fillmode\":\"overlay\",\"size\":10,\"solidity\":0.2}},\"type\":\"histogram\"}],\"scattergl\":[{\"type\":\"scattergl\",\"marker\":{\"colorbar\":{\"outlinewidth\":0,\"ticks\":\"\"}}}],\"scatter3d\":[{\"type\":\"scatter3d\",\"line\":{\"colorbar\":{\"outlinewidth\":0,\"ticks\":\"\"}},\"marker\":{\"colorbar\":{\"outlinewidth\":0,\"ticks\":\"\"}}}],\"scattermapbox\":[{\"type\":\"scattermapbox\",\"marker\":{\"colorbar\":{\"outlinewidth\":0,\"ticks\":\"\"}}}],\"scatterternary\":[{\"type\":\"scatterternary\",\"marker\":{\"colorbar\":{\"outlinewidth\":0,\"ticks\":\"\"}}}],\"scattercarpet\":[{\"type\":\"scattercarpet\",\"marker\":{\"colorbar\":{\"outlinewidth\":0,\"ticks\":\"\"}}}],\"carpet\":[{\"aaxis\":{\"endlinecolor\":\"#2a3f5f\",\"gridcolor\":\"white\",\"linecolor\":\"white\",\"minorgridcolor\":\"white\",\"startlinecolor\":\"#2a3f5f\"},\"baxis\":{\"endlinecolor\":\"#2a3f5f\",\"gridcolor\":\"white\",\"linecolor\":\"white\",\"minorgridcolor\":\"white\",\"startlinecolor\":\"#2a3f5f\"},\"type\":\"carpet\"}],\"table\":[{\"cells\":{\"fill\":{\"color\":\"#EBF0F8\"},\"line\":{\"color\":\"white\"}},\"header\":{\"fill\":{\"color\":\"#C8D4E3\"},\"line\":{\"color\":\"white\"}},\"type\":\"table\"}],\"barpolar\":[{\"marker\":{\"line\":{\"color\":\"#E5ECF6\",\"width\":0.5},\"pattern\":{\"fillmode\":\"overlay\",\"size\":10,\"solidity\":0.2}},\"type\":\"barpolar\"}],\"pie\":[{\"automargin\":true,\"type\":\"pie\"}]},\"layout\":{\"autotypenumbers\":\"strict\",\"colorway\":[\"#636efa\",\"#EF553B\",\"#00cc96\",\"#ab63fa\",\"#FFA15A\",\"#19d3f3\",\"#FF6692\",\"#B6E880\",\"#FF97FF\",\"#FECB52\"],\"font\":{\"color\":\"#2a3f5f\"},\"hovermode\":\"closest\",\"hoverlabel\":{\"align\":\"left\"},\"paper_bgcolor\":\"white\",\"plot_bgcolor\":\"#E5ECF6\",\"polar\":{\"bgcolor\":\"#E5ECF6\",\"angularaxis\":{\"gridcolor\":\"white\",\"linecolor\":\"white\",\"ticks\":\"\"},\"radialaxis\":{\"gridcolor\":\"white\",\"linecolor\":\"white\",\"ticks\":\"\"}},\"ternary\":{\"bgcolor\":\"#E5ECF6\",\"aaxis\":{\"gridcolor\":\"white\",\"linecolor\":\"white\",\"ticks\":\"\"},\"baxis\":{\"gridcolor\":\"white\",\"linecolor\":\"white\",\"ticks\":\"\"},\"caxis\":{\"gridcolor\":\"white\",\"linecolor\":\"white\",\"ticks\":\"\"}},\"coloraxis\":{\"colorbar\":{\"outlinewidth\":0,\"ticks\":\"\"}},\"colorscale\":{\"sequential\":[[0.0,\"#0d0887\"],[0.1111111111111111,\"#46039f\"],[0.2222222222222222,\"#7201a8\"],[0.3333333333333333,\"#9c179e\"],[0.4444444444444444,\"#bd3786\"],[0.5555555555555556,\"#d8576b\"],[0.6666666666666666,\"#ed7953\"],[0.7777777777777778,\"#fb9f3a\"],[0.8888888888888888,\"#fdca26\"],[1.0,\"#f0f921\"]],\"sequentialminus\":[[0.0,\"#0d0887\"],[0.1111111111111111,\"#46039f\"],[0.2222222222222222,\"#7201a8\"],[0.3333333333333333,\"#9c179e\"],[0.4444444444444444,\"#bd3786\"],[0.5555555555555556,\"#d8576b\"],[0.6666666666666666,\"#ed7953\"],[0.7777777777777778,\"#fb9f3a\"],[0.8888888888888888,\"#fdca26\"],[1.0,\"#f0f921\"]],\"diverging\":[[0,\"#8e0152\"],[0.1,\"#c51b7d\"],[0.2,\"#de77ae\"],[0.3,\"#f1b6da\"],[0.4,\"#fde0ef\"],[0.5,\"#f7f7f7\"],[0.6,\"#e6f5d0\"],[0.7,\"#b8e186\"],[0.8,\"#7fbc41\"],[0.9,\"#4d9221\"],[1,\"#276419\"]]},\"xaxis\":{\"gridcolor\":\"white\",\"linecolor\":\"white\",\"ticks\":\"\",\"title\":{\"standoff\":15},\"zerolinecolor\":\"white\",\"automargin\":true,\"zerolinewidth\":2},\"yaxis\":{\"gridcolor\":\"white\",\"linecolor\":\"white\",\"ticks\":\"\",\"title\":{\"standoff\":15},\"zerolinecolor\":\"white\",\"automargin\":true,\"zerolinewidth\":2},\"scene\":{\"xaxis\":{\"backgroundcolor\":\"#E5ECF6\",\"gridcolor\":\"white\",\"linecolor\":\"white\",\"showbackground\":true,\"ticks\":\"\",\"zerolinecolor\":\"white\",\"gridwidth\":2},\"yaxis\":{\"backgroundcolor\":\"#E5ECF6\",\"gridcolor\":\"white\",\"linecolor\":\"white\",\"showbackground\":true,\"ticks\":\"\",\"zerolinecolor\":\"white\",\"gridwidth\":2},\"zaxis\":{\"backgroundcolor\":\"#E5ECF6\",\"gridcolor\":\"white\",\"linecolor\":\"white\",\"showbackground\":true,\"ticks\":\"\",\"zerolinecolor\":\"white\",\"gridwidth\":2}},\"shapedefaults\":{\"line\":{\"color\":\"#2a3f5f\"}},\"annotationdefaults\":{\"arrowcolor\":\"#2a3f5f\",\"arrowhead\":0,\"arrowwidth\":1},\"geo\":{\"bgcolor\":\"white\",\"landcolor\":\"#E5ECF6\",\"subunitcolor\":\"white\",\"showland\":true,\"showlakes\":true,\"lakecolor\":\"white\"},\"title\":{\"x\":0.05},\"mapbox\":{\"style\":\"light\"}}},\"margin\":{\"l\":0,\"r\":0,\"b\":0,\"t\":40},\"title\":{\"text\":\"3D Scatter Plot Example\"},\"scene\":{\"xaxis\":{\"title\":{\"text\":\"X Axis\"}},\"yaxis\":{\"title\":{\"text\":\"Y Axis\"}},\"zaxis\":{\"title\":{\"text\":\"Z Axis\"}}}},                        {\"responsive\": true}                    ).then(function(){\n",
              "                            \n",
              "var gd = document.getElementById('3f8dd704-ba6d-449d-90d2-b011de64a377');\n",
              "var x = new MutationObserver(function (mutations, observer) {{\n",
              "        var display = window.getComputedStyle(gd).display;\n",
              "        if (!display || display === 'none') {{\n",
              "            console.log([gd, 'removed!']);\n",
              "            Plotly.purge(gd);\n",
              "            observer.disconnect();\n",
              "        }}\n",
              "}});\n",
              "\n",
              "// Listen for the removal of the full notebook cells\n",
              "var notebookContainer = gd.closest('#notebook-container');\n",
              "if (notebookContainer) {{\n",
              "    x.observe(notebookContainer, {childList: true});\n",
              "}}\n",
              "\n",
              "// Listen for the clearing of the current output cell\n",
              "var outputEl = gd.closest('.output');\n",
              "if (outputEl) {{\n",
              "    x.observe(outputEl, {childList: true});\n",
              "}}\n",
              "\n",
              "                        })                };                            </script>        </div>\n",
              "</body>\n",
              "</html>"
            ]
          },
          "metadata": {}
        }
      ]
    }
  ]
}